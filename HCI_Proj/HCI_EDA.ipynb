{
 "cells": [
  {
   "cell_type": "code",
   "outputs": [],
   "source": [
    "# Surpress warnings:\n",
    "def warn(*args, **kwargs):\n",
    "    pass\n",
    "import warnings\n",
    "warnings.warn = warn"
   ],
   "metadata": {
    "collapsed": false,
    "ExecuteTime": {
     "end_time": "2024-01-27T17:22:39.774510400Z",
     "start_time": "2024-01-27T17:22:39.719992800Z"
    }
   },
   "id": "617c32ea8d1af291",
   "execution_count": 26
  },
  {
   "cell_type": "code",
   "execution_count": 27,
   "id": "initial_id",
   "metadata": {
    "collapsed": true,
    "ExecuteTime": {
     "end_time": "2024-01-27T17:22:39.787701800Z",
     "start_time": "2024-01-27T17:22:39.770356300Z"
    }
   },
   "outputs": [],
   "source": [
    "import pandas as pd\n",
    "import numpy as np\n",
    "\n",
    "import seaborn as sns\n",
    "import matplotlib.pylab as plt\n",
    "import scipy.stats as st\n",
    "import pingouin as pg\n",
    "\n",
    "from statsmodels.stats.anova import AnovaRM\n",
    "from statsmodels.stats.multicomp import pairwise_tukeyhsd\n",
    "\n",
    "%matplotlib inline"
   ]
  },
  {
   "cell_type": "code",
   "outputs": [
    {
     "data": {
      "text/plain": "     Subject  Keyboard_layout Input_method  Trial  Testing?     Seconds  \\\n0          1  QUADRANT LAYOUT   Left-Right      1         1  464.514671   \n1          1  QUADRANT LAYOUT   Left-Right      2         1  426.656145   \n2          1  QUADRANT LAYOUT   Left-Right      3         1  269.877301   \n3          1    QWERTY LAYOUT   Left-Right      1         1  311.515240   \n4          1    QWERTY LAYOUT   Left-Right      2         1  414.189707   \n..       ...              ...          ...    ...       ...         ...   \n127       11  QUADRANT LAYOUT    Free-roam      2         0  638.751858   \n128       11  QUADRANT LAYOUT    Free-roam      3         0  588.744204   \n129       11    QWERTY LAYOUT    Free-roam      1         0  417.934945   \n130       11    QWERTY LAYOUT    Free-roam      2         0  239.287275   \n131       11    QWERTY LAYOUT    Free-roam      3         0  168.495137   \n\n          WPM    AdjWPM       CPS      KSPS  ...     Consc  UtilBand  \\\n0    0.387501  0.326317  0.032292  0.036597  ...  0.250000  0.750000   \n1    0.534388  0.534388  0.044532  0.049220  ...  1.000000  0.909091   \n2    0.755899  0.713905  0.062992  0.062992  ...  0.000000  0.944444   \n3    0.808949  0.772179  0.067412  0.067412  ...  0.000000  0.954545   \n4    0.579445  0.531158  0.048287  0.057944  ...  0.500000  0.769231   \n..        ...       ...       ...       ...  ...       ...       ...   \n127  0.075147  0.030528  0.006262  0.037573  ...  0.344828  0.071429   \n128  0.122294  0.061147  0.010191  0.027176  ...  0.333333  0.200000   \n129  0.660390  0.250493  0.055032  0.078960  ...  0.217391  0.176471   \n130  1.454319  0.396632  0.121193  0.150447  ...  0.111111  0.162162   \n131  1.922904  0.206025  0.160242  0.160242  ...  0.000000  0.107143   \n\n     WasteBand  |C|  |INF|  |IF|  |F|  |P|  |T|  |IS|  \n0     0.250000   15      3     1    1   18   16    18  \n1     0.090909   20      0     1    1   20   20    22  \n2     0.055556   17      1     0    0   18   18    18  \n3     0.045455   21      1     0    0   22   22    22  \n4     0.230769   20      2     2    2   22   21    25  \n..         ...  ...    ...   ...  ...  ...  ...   ...  \n127   0.928571    3     19    10   10   22    5    25  \n128   0.800000    5     10     5    5   15    7    17  \n129   0.823529    6     18     5    5   23   24    34  \n130   0.837838    6     24     3    4   28   30    37  \n131   0.892857    3     25     0    0   22   28    28  \n\n[132 rows x 26 columns]",
      "text/html": "<div>\n<style scoped>\n    .dataframe tbody tr th:only-of-type {\n        vertical-align: middle;\n    }\n\n    .dataframe tbody tr th {\n        vertical-align: top;\n    }\n\n    .dataframe thead th {\n        text-align: right;\n    }\n</style>\n<table border=\"1\" class=\"dataframe\">\n  <thead>\n    <tr style=\"text-align: right;\">\n      <th></th>\n      <th>Subject</th>\n      <th>Keyboard_layout</th>\n      <th>Input_method</th>\n      <th>Trial</th>\n      <th>Testing?</th>\n      <th>Seconds</th>\n      <th>WPM</th>\n      <th>AdjWPM</th>\n      <th>CPS</th>\n      <th>KSPS</th>\n      <th>...</th>\n      <th>Consc</th>\n      <th>UtilBand</th>\n      <th>WasteBand</th>\n      <th>|C|</th>\n      <th>|INF|</th>\n      <th>|IF|</th>\n      <th>|F|</th>\n      <th>|P|</th>\n      <th>|T|</th>\n      <th>|IS|</th>\n    </tr>\n  </thead>\n  <tbody>\n    <tr>\n      <th>0</th>\n      <td>1</td>\n      <td>QUADRANT LAYOUT</td>\n      <td>Left-Right</td>\n      <td>1</td>\n      <td>1</td>\n      <td>464.514671</td>\n      <td>0.387501</td>\n      <td>0.326317</td>\n      <td>0.032292</td>\n      <td>0.036597</td>\n      <td>...</td>\n      <td>0.250000</td>\n      <td>0.750000</td>\n      <td>0.250000</td>\n      <td>15</td>\n      <td>3</td>\n      <td>1</td>\n      <td>1</td>\n      <td>18</td>\n      <td>16</td>\n      <td>18</td>\n    </tr>\n    <tr>\n      <th>1</th>\n      <td>1</td>\n      <td>QUADRANT LAYOUT</td>\n      <td>Left-Right</td>\n      <td>2</td>\n      <td>1</td>\n      <td>426.656145</td>\n      <td>0.534388</td>\n      <td>0.534388</td>\n      <td>0.044532</td>\n      <td>0.049220</td>\n      <td>...</td>\n      <td>1.000000</td>\n      <td>0.909091</td>\n      <td>0.090909</td>\n      <td>20</td>\n      <td>0</td>\n      <td>1</td>\n      <td>1</td>\n      <td>20</td>\n      <td>20</td>\n      <td>22</td>\n    </tr>\n    <tr>\n      <th>2</th>\n      <td>1</td>\n      <td>QUADRANT LAYOUT</td>\n      <td>Left-Right</td>\n      <td>3</td>\n      <td>1</td>\n      <td>269.877301</td>\n      <td>0.755899</td>\n      <td>0.713905</td>\n      <td>0.062992</td>\n      <td>0.062992</td>\n      <td>...</td>\n      <td>0.000000</td>\n      <td>0.944444</td>\n      <td>0.055556</td>\n      <td>17</td>\n      <td>1</td>\n      <td>0</td>\n      <td>0</td>\n      <td>18</td>\n      <td>18</td>\n      <td>18</td>\n    </tr>\n    <tr>\n      <th>3</th>\n      <td>1</td>\n      <td>QWERTY LAYOUT</td>\n      <td>Left-Right</td>\n      <td>1</td>\n      <td>1</td>\n      <td>311.515240</td>\n      <td>0.808949</td>\n      <td>0.772179</td>\n      <td>0.067412</td>\n      <td>0.067412</td>\n      <td>...</td>\n      <td>0.000000</td>\n      <td>0.954545</td>\n      <td>0.045455</td>\n      <td>21</td>\n      <td>1</td>\n      <td>0</td>\n      <td>0</td>\n      <td>22</td>\n      <td>22</td>\n      <td>22</td>\n    </tr>\n    <tr>\n      <th>4</th>\n      <td>1</td>\n      <td>QWERTY LAYOUT</td>\n      <td>Left-Right</td>\n      <td>2</td>\n      <td>1</td>\n      <td>414.189707</td>\n      <td>0.579445</td>\n      <td>0.531158</td>\n      <td>0.048287</td>\n      <td>0.057944</td>\n      <td>...</td>\n      <td>0.500000</td>\n      <td>0.769231</td>\n      <td>0.230769</td>\n      <td>20</td>\n      <td>2</td>\n      <td>2</td>\n      <td>2</td>\n      <td>22</td>\n      <td>21</td>\n      <td>25</td>\n    </tr>\n    <tr>\n      <th>...</th>\n      <td>...</td>\n      <td>...</td>\n      <td>...</td>\n      <td>...</td>\n      <td>...</td>\n      <td>...</td>\n      <td>...</td>\n      <td>...</td>\n      <td>...</td>\n      <td>...</td>\n      <td>...</td>\n      <td>...</td>\n      <td>...</td>\n      <td>...</td>\n      <td>...</td>\n      <td>...</td>\n      <td>...</td>\n      <td>...</td>\n      <td>...</td>\n      <td>...</td>\n      <td>...</td>\n    </tr>\n    <tr>\n      <th>127</th>\n      <td>11</td>\n      <td>QUADRANT LAYOUT</td>\n      <td>Free-roam</td>\n      <td>2</td>\n      <td>0</td>\n      <td>638.751858</td>\n      <td>0.075147</td>\n      <td>0.030528</td>\n      <td>0.006262</td>\n      <td>0.037573</td>\n      <td>...</td>\n      <td>0.344828</td>\n      <td>0.071429</td>\n      <td>0.928571</td>\n      <td>3</td>\n      <td>19</td>\n      <td>10</td>\n      <td>10</td>\n      <td>22</td>\n      <td>5</td>\n      <td>25</td>\n    </tr>\n    <tr>\n      <th>128</th>\n      <td>11</td>\n      <td>QUADRANT LAYOUT</td>\n      <td>Free-roam</td>\n      <td>3</td>\n      <td>0</td>\n      <td>588.744204</td>\n      <td>0.122294</td>\n      <td>0.061147</td>\n      <td>0.010191</td>\n      <td>0.027176</td>\n      <td>...</td>\n      <td>0.333333</td>\n      <td>0.200000</td>\n      <td>0.800000</td>\n      <td>5</td>\n      <td>10</td>\n      <td>5</td>\n      <td>5</td>\n      <td>15</td>\n      <td>7</td>\n      <td>17</td>\n    </tr>\n    <tr>\n      <th>129</th>\n      <td>11</td>\n      <td>QWERTY LAYOUT</td>\n      <td>Free-roam</td>\n      <td>1</td>\n      <td>0</td>\n      <td>417.934945</td>\n      <td>0.660390</td>\n      <td>0.250493</td>\n      <td>0.055032</td>\n      <td>0.078960</td>\n      <td>...</td>\n      <td>0.217391</td>\n      <td>0.176471</td>\n      <td>0.823529</td>\n      <td>6</td>\n      <td>18</td>\n      <td>5</td>\n      <td>5</td>\n      <td>23</td>\n      <td>24</td>\n      <td>34</td>\n    </tr>\n    <tr>\n      <th>130</th>\n      <td>11</td>\n      <td>QWERTY LAYOUT</td>\n      <td>Free-roam</td>\n      <td>2</td>\n      <td>0</td>\n      <td>239.287275</td>\n      <td>1.454319</td>\n      <td>0.396632</td>\n      <td>0.121193</td>\n      <td>0.150447</td>\n      <td>...</td>\n      <td>0.111111</td>\n      <td>0.162162</td>\n      <td>0.837838</td>\n      <td>6</td>\n      <td>24</td>\n      <td>3</td>\n      <td>4</td>\n      <td>28</td>\n      <td>30</td>\n      <td>37</td>\n    </tr>\n    <tr>\n      <th>131</th>\n      <td>11</td>\n      <td>QWERTY LAYOUT</td>\n      <td>Free-roam</td>\n      <td>3</td>\n      <td>0</td>\n      <td>168.495137</td>\n      <td>1.922904</td>\n      <td>0.206025</td>\n      <td>0.160242</td>\n      <td>0.160242</td>\n      <td>...</td>\n      <td>0.000000</td>\n      <td>0.107143</td>\n      <td>0.892857</td>\n      <td>3</td>\n      <td>25</td>\n      <td>0</td>\n      <td>0</td>\n      <td>22</td>\n      <td>28</td>\n      <td>28</td>\n    </tr>\n  </tbody>\n</table>\n<p>132 rows × 26 columns</p>\n</div>"
     },
     "execution_count": 28,
     "metadata": {},
     "output_type": "execute_result"
    }
   ],
   "source": [
    "data = pd.read_csv('test_data.csv')\n",
    "data "
   ],
   "metadata": {
    "collapsed": false,
    "ExecuteTime": {
     "end_time": "2024-01-27T17:22:39.839161400Z",
     "start_time": "2024-01-27T17:22:39.785690500Z"
    }
   },
   "id": "debce30d1ab96fbd",
   "execution_count": 28
  },
  {
   "cell_type": "code",
   "outputs": [
    {
     "data": {
      "text/plain": "    Subject  Keyboard_layout Input_method       WPM  TotErrRate\n0         1  QUADRANT LAYOUT    Free-roam  0.395437    0.194497\n1         1  QUADRANT LAYOUT   Left-Right  0.559263    0.104567\n2         1    QWERTY LAYOUT    Free-roam  0.825256    0.168478\n3         1    QWERTY LAYOUT   Left-Right  0.731102    0.093696\n4         2  QUADRANT LAYOUT    Free-roam  0.407968    0.168350\n5         2  QUADRANT LAYOUT   Left-Right  0.500654    0.104360\n6         2    QWERTY LAYOUT    Free-roam  1.592487    0.537563\n7         2    QWERTY LAYOUT   Left-Right  0.645725    0.059608\n8         3  QUADRANT LAYOUT    Free-roam  0.746987    0.696970\n9         3  QUADRANT LAYOUT   Left-Right  0.473820    0.054627\n10        3    QWERTY LAYOUT    Free-roam  1.589548    0.870159\n11        3    QWERTY LAYOUT   Left-Right  0.593095    0.176812\n12        4  QUADRANT LAYOUT    Free-roam  0.395624    0.311627\n13        4  QUADRANT LAYOUT   Left-Right  0.577207    0.073607\n14        4    QWERTY LAYOUT    Free-roam  1.287458    0.104691\n15        4    QWERTY LAYOUT   Left-Right  0.838136    0.070000\n16        5  QUADRANT LAYOUT    Free-roam  0.570506    0.094517\n17        5  QUADRANT LAYOUT   Left-Right  0.515399    0.230347\n18        5    QWERTY LAYOUT    Free-roam  1.107897    0.091486\n19        5    QWERTY LAYOUT   Left-Right  0.720805    0.114655\n20        6  QUADRANT LAYOUT    Free-roam  0.658333    0.063333\n21        6  QUADRANT LAYOUT   Left-Right  0.769333    0.137000\n22        6    QWERTY LAYOUT    Free-roam  0.830667    0.173000\n23        6    QWERTY LAYOUT   Left-Right  0.834333    0.067667\n24        7  QUADRANT LAYOUT    Free-roam  0.648860    0.068783\n25        7  QUADRANT LAYOUT   Left-Right  0.833048    0.119895\n26        7    QWERTY LAYOUT    Free-roam  0.981041    0.314815\n27        7    QWERTY LAYOUT   Left-Right  0.718092    0.276812\n28        8  QUADRANT LAYOUT    Free-roam  0.347328    0.361166\n29        8  QUADRANT LAYOUT   Left-Right  0.779163    0.135318\n30        8    QWERTY LAYOUT    Free-roam  0.828837    0.295851\n31        8    QWERTY LAYOUT   Left-Right  0.542132    0.213219\n32        9  QUADRANT LAYOUT    Free-roam  0.287970    0.388948\n33        9  QUADRANT LAYOUT   Left-Right  0.605157    0.210833\n34        9    QWERTY LAYOUT    Free-roam  1.435316    0.269601\n35        9    QWERTY LAYOUT   Left-Right  0.612204    0.053704\n36       10  QUADRANT LAYOUT    Free-roam  0.544301    0.173190\n37       10  QUADRANT LAYOUT   Left-Right  0.383008    0.130833\n38       10    QWERTY LAYOUT    Free-roam  1.866110    0.488095\n39       10    QWERTY LAYOUT   Left-Right  0.805735    0.116830\n40       11  QUADRANT LAYOUT    Free-roam  0.065814    0.885417\n41       11  QUADRANT LAYOUT   Left-Right  0.674664    0.175607\n42       11    QWERTY LAYOUT    Free-roam  1.345871    0.834714\n43       11    QWERTY LAYOUT   Left-Right  0.574534    0.400215",
      "text/html": "<div>\n<style scoped>\n    .dataframe tbody tr th:only-of-type {\n        vertical-align: middle;\n    }\n\n    .dataframe tbody tr th {\n        vertical-align: top;\n    }\n\n    .dataframe thead th {\n        text-align: right;\n    }\n</style>\n<table border=\"1\" class=\"dataframe\">\n  <thead>\n    <tr style=\"text-align: right;\">\n      <th></th>\n      <th>Subject</th>\n      <th>Keyboard_layout</th>\n      <th>Input_method</th>\n      <th>WPM</th>\n      <th>TotErrRate</th>\n    </tr>\n  </thead>\n  <tbody>\n    <tr>\n      <th>0</th>\n      <td>1</td>\n      <td>QUADRANT LAYOUT</td>\n      <td>Free-roam</td>\n      <td>0.395437</td>\n      <td>0.194497</td>\n    </tr>\n    <tr>\n      <th>1</th>\n      <td>1</td>\n      <td>QUADRANT LAYOUT</td>\n      <td>Left-Right</td>\n      <td>0.559263</td>\n      <td>0.104567</td>\n    </tr>\n    <tr>\n      <th>2</th>\n      <td>1</td>\n      <td>QWERTY LAYOUT</td>\n      <td>Free-roam</td>\n      <td>0.825256</td>\n      <td>0.168478</td>\n    </tr>\n    <tr>\n      <th>3</th>\n      <td>1</td>\n      <td>QWERTY LAYOUT</td>\n      <td>Left-Right</td>\n      <td>0.731102</td>\n      <td>0.093696</td>\n    </tr>\n    <tr>\n      <th>4</th>\n      <td>2</td>\n      <td>QUADRANT LAYOUT</td>\n      <td>Free-roam</td>\n      <td>0.407968</td>\n      <td>0.168350</td>\n    </tr>\n    <tr>\n      <th>5</th>\n      <td>2</td>\n      <td>QUADRANT LAYOUT</td>\n      <td>Left-Right</td>\n      <td>0.500654</td>\n      <td>0.104360</td>\n    </tr>\n    <tr>\n      <th>6</th>\n      <td>2</td>\n      <td>QWERTY LAYOUT</td>\n      <td>Free-roam</td>\n      <td>1.592487</td>\n      <td>0.537563</td>\n    </tr>\n    <tr>\n      <th>7</th>\n      <td>2</td>\n      <td>QWERTY LAYOUT</td>\n      <td>Left-Right</td>\n      <td>0.645725</td>\n      <td>0.059608</td>\n    </tr>\n    <tr>\n      <th>8</th>\n      <td>3</td>\n      <td>QUADRANT LAYOUT</td>\n      <td>Free-roam</td>\n      <td>0.746987</td>\n      <td>0.696970</td>\n    </tr>\n    <tr>\n      <th>9</th>\n      <td>3</td>\n      <td>QUADRANT LAYOUT</td>\n      <td>Left-Right</td>\n      <td>0.473820</td>\n      <td>0.054627</td>\n    </tr>\n    <tr>\n      <th>10</th>\n      <td>3</td>\n      <td>QWERTY LAYOUT</td>\n      <td>Free-roam</td>\n      <td>1.589548</td>\n      <td>0.870159</td>\n    </tr>\n    <tr>\n      <th>11</th>\n      <td>3</td>\n      <td>QWERTY LAYOUT</td>\n      <td>Left-Right</td>\n      <td>0.593095</td>\n      <td>0.176812</td>\n    </tr>\n    <tr>\n      <th>12</th>\n      <td>4</td>\n      <td>QUADRANT LAYOUT</td>\n      <td>Free-roam</td>\n      <td>0.395624</td>\n      <td>0.311627</td>\n    </tr>\n    <tr>\n      <th>13</th>\n      <td>4</td>\n      <td>QUADRANT LAYOUT</td>\n      <td>Left-Right</td>\n      <td>0.577207</td>\n      <td>0.073607</td>\n    </tr>\n    <tr>\n      <th>14</th>\n      <td>4</td>\n      <td>QWERTY LAYOUT</td>\n      <td>Free-roam</td>\n      <td>1.287458</td>\n      <td>0.104691</td>\n    </tr>\n    <tr>\n      <th>15</th>\n      <td>4</td>\n      <td>QWERTY LAYOUT</td>\n      <td>Left-Right</td>\n      <td>0.838136</td>\n      <td>0.070000</td>\n    </tr>\n    <tr>\n      <th>16</th>\n      <td>5</td>\n      <td>QUADRANT LAYOUT</td>\n      <td>Free-roam</td>\n      <td>0.570506</td>\n      <td>0.094517</td>\n    </tr>\n    <tr>\n      <th>17</th>\n      <td>5</td>\n      <td>QUADRANT LAYOUT</td>\n      <td>Left-Right</td>\n      <td>0.515399</td>\n      <td>0.230347</td>\n    </tr>\n    <tr>\n      <th>18</th>\n      <td>5</td>\n      <td>QWERTY LAYOUT</td>\n      <td>Free-roam</td>\n      <td>1.107897</td>\n      <td>0.091486</td>\n    </tr>\n    <tr>\n      <th>19</th>\n      <td>5</td>\n      <td>QWERTY LAYOUT</td>\n      <td>Left-Right</td>\n      <td>0.720805</td>\n      <td>0.114655</td>\n    </tr>\n    <tr>\n      <th>20</th>\n      <td>6</td>\n      <td>QUADRANT LAYOUT</td>\n      <td>Free-roam</td>\n      <td>0.658333</td>\n      <td>0.063333</td>\n    </tr>\n    <tr>\n      <th>21</th>\n      <td>6</td>\n      <td>QUADRANT LAYOUT</td>\n      <td>Left-Right</td>\n      <td>0.769333</td>\n      <td>0.137000</td>\n    </tr>\n    <tr>\n      <th>22</th>\n      <td>6</td>\n      <td>QWERTY LAYOUT</td>\n      <td>Free-roam</td>\n      <td>0.830667</td>\n      <td>0.173000</td>\n    </tr>\n    <tr>\n      <th>23</th>\n      <td>6</td>\n      <td>QWERTY LAYOUT</td>\n      <td>Left-Right</td>\n      <td>0.834333</td>\n      <td>0.067667</td>\n    </tr>\n    <tr>\n      <th>24</th>\n      <td>7</td>\n      <td>QUADRANT LAYOUT</td>\n      <td>Free-roam</td>\n      <td>0.648860</td>\n      <td>0.068783</td>\n    </tr>\n    <tr>\n      <th>25</th>\n      <td>7</td>\n      <td>QUADRANT LAYOUT</td>\n      <td>Left-Right</td>\n      <td>0.833048</td>\n      <td>0.119895</td>\n    </tr>\n    <tr>\n      <th>26</th>\n      <td>7</td>\n      <td>QWERTY LAYOUT</td>\n      <td>Free-roam</td>\n      <td>0.981041</td>\n      <td>0.314815</td>\n    </tr>\n    <tr>\n      <th>27</th>\n      <td>7</td>\n      <td>QWERTY LAYOUT</td>\n      <td>Left-Right</td>\n      <td>0.718092</td>\n      <td>0.276812</td>\n    </tr>\n    <tr>\n      <th>28</th>\n      <td>8</td>\n      <td>QUADRANT LAYOUT</td>\n      <td>Free-roam</td>\n      <td>0.347328</td>\n      <td>0.361166</td>\n    </tr>\n    <tr>\n      <th>29</th>\n      <td>8</td>\n      <td>QUADRANT LAYOUT</td>\n      <td>Left-Right</td>\n      <td>0.779163</td>\n      <td>0.135318</td>\n    </tr>\n    <tr>\n      <th>30</th>\n      <td>8</td>\n      <td>QWERTY LAYOUT</td>\n      <td>Free-roam</td>\n      <td>0.828837</td>\n      <td>0.295851</td>\n    </tr>\n    <tr>\n      <th>31</th>\n      <td>8</td>\n      <td>QWERTY LAYOUT</td>\n      <td>Left-Right</td>\n      <td>0.542132</td>\n      <td>0.213219</td>\n    </tr>\n    <tr>\n      <th>32</th>\n      <td>9</td>\n      <td>QUADRANT LAYOUT</td>\n      <td>Free-roam</td>\n      <td>0.287970</td>\n      <td>0.388948</td>\n    </tr>\n    <tr>\n      <th>33</th>\n      <td>9</td>\n      <td>QUADRANT LAYOUT</td>\n      <td>Left-Right</td>\n      <td>0.605157</td>\n      <td>0.210833</td>\n    </tr>\n    <tr>\n      <th>34</th>\n      <td>9</td>\n      <td>QWERTY LAYOUT</td>\n      <td>Free-roam</td>\n      <td>1.435316</td>\n      <td>0.269601</td>\n    </tr>\n    <tr>\n      <th>35</th>\n      <td>9</td>\n      <td>QWERTY LAYOUT</td>\n      <td>Left-Right</td>\n      <td>0.612204</td>\n      <td>0.053704</td>\n    </tr>\n    <tr>\n      <th>36</th>\n      <td>10</td>\n      <td>QUADRANT LAYOUT</td>\n      <td>Free-roam</td>\n      <td>0.544301</td>\n      <td>0.173190</td>\n    </tr>\n    <tr>\n      <th>37</th>\n      <td>10</td>\n      <td>QUADRANT LAYOUT</td>\n      <td>Left-Right</td>\n      <td>0.383008</td>\n      <td>0.130833</td>\n    </tr>\n    <tr>\n      <th>38</th>\n      <td>10</td>\n      <td>QWERTY LAYOUT</td>\n      <td>Free-roam</td>\n      <td>1.866110</td>\n      <td>0.488095</td>\n    </tr>\n    <tr>\n      <th>39</th>\n      <td>10</td>\n      <td>QWERTY LAYOUT</td>\n      <td>Left-Right</td>\n      <td>0.805735</td>\n      <td>0.116830</td>\n    </tr>\n    <tr>\n      <th>40</th>\n      <td>11</td>\n      <td>QUADRANT LAYOUT</td>\n      <td>Free-roam</td>\n      <td>0.065814</td>\n      <td>0.885417</td>\n    </tr>\n    <tr>\n      <th>41</th>\n      <td>11</td>\n      <td>QUADRANT LAYOUT</td>\n      <td>Left-Right</td>\n      <td>0.674664</td>\n      <td>0.175607</td>\n    </tr>\n    <tr>\n      <th>42</th>\n      <td>11</td>\n      <td>QWERTY LAYOUT</td>\n      <td>Free-roam</td>\n      <td>1.345871</td>\n      <td>0.834714</td>\n    </tr>\n    <tr>\n      <th>43</th>\n      <td>11</td>\n      <td>QWERTY LAYOUT</td>\n      <td>Left-Right</td>\n      <td>0.574534</td>\n      <td>0.400215</td>\n    </tr>\n  </tbody>\n</table>\n</div>"
     },
     "execution_count": 29,
     "metadata": {},
     "output_type": "execute_result"
    }
   ],
   "source": [
    "df = data.copy()\n",
    "df_grouped = df.groupby(by=['Subject','Keyboard_layout', 'Input_method'])[['WPM', 'TotErrRate']].mean().reset_index()\n",
    "df_grouped"
   ],
   "metadata": {
    "collapsed": false,
    "ExecuteTime": {
     "end_time": "2024-01-27T17:22:39.867215500Z",
     "start_time": "2024-01-27T17:22:39.818998600Z"
    }
   },
   "id": "c92ce601317ad2b0",
   "execution_count": 29
  },
  {
   "cell_type": "code",
   "outputs": [
    {
     "name": "stdout",
     "output_type": "stream",
     "text": [
      "Levene's Test: Statistics=0.594, p=0.445 for WPM\n",
      "Levene's Test: Statistics=0.237, p=0.629 for TotErrRate\n"
     ]
    }
   ],
   "source": [
    "for depvar in ['WPM', 'TotErrRate']:\n",
    "    \n",
    "    stat, p = st.levene(df_grouped[depvar][df['Keyboard_layout'] == 'QUADRANT LAYOUT'],\n",
    "                           df_grouped[depvar][df['Keyboard_layout'] == 'QWERTY LAYOUT'])\n",
    "    print('Levene\\'s Test: Statistics=%.3f, p=%.3f' % (stat, p),'for', depvar)"
   ],
   "metadata": {
    "collapsed": false,
    "ExecuteTime": {
     "end_time": "2024-01-27T17:26:46.445864900Z",
     "start_time": "2024-01-27T17:26:46.411893600Z"
    }
   },
   "id": "e5c7fb3c304c309c",
   "execution_count": 38
  },
  {
   "cell_type": "code",
   "outputs": [
    {
     "name": "stdout",
     "output_type": "stream",
     "text": [
      "WPM \n",
      "Repeated Measures                           Anova\n",
      "==========================================================\n",
      "                             F Value Num DF  Den DF Pr > F\n",
      "----------------------------------------------------------\n",
      "Keyboard_layout              32.6627 1.0000 10.0000 0.0002\n",
      "Input_method                  6.9694 1.0000 10.0000 0.0247\n",
      "Keyboard_layout:Input_method 34.2721 1.0000 10.0000 0.0002\n",
      "==========================================================\n",
      " \n",
      "\n",
      "TotErrRate \n",
      "Repeated Measures                           Anova\n",
      "==========================================================\n",
      "                             F Value Num DF  Den DF Pr > F\n",
      "----------------------------------------------------------\n",
      "Keyboard_layout               1.3908 1.0000 10.0000 0.2656\n",
      "Input_method                  8.3227 1.0000 10.0000 0.0162\n",
      "Keyboard_layout:Input_method  0.6779 1.0000 10.0000 0.4295\n",
      "==========================================================\n",
      " \n"
     ]
    }
   ],
   "source": [
    "for depvar in ['WPM','TotErrRate']:\n",
    "# Peform the repeated measures ANOVA\n",
    "    anova = AnovaRM(df_grouped, depvar=depvar, subject='Subject', within=['Keyboard_layout', 'Input_method'])\n",
    "    res = anova.fit()\n",
    "    \n",
    "    print(depvar,'\\nRepeated Measures',res,'\\n')"
   ],
   "metadata": {
    "collapsed": false,
    "ExecuteTime": {
     "end_time": "2024-01-27T17:26:02.989986400Z",
     "start_time": "2024-01-27T17:26:02.948175Z"
    }
   },
   "id": "2aacef6074cb10e7",
   "execution_count": 37
  },
  {
   "cell_type": "code",
   "outputs": [
    {
     "name": "stdout",
     "output_type": "stream",
     "text": [
      "WPM Tukey's HSD test:\n",
      "    Multiple Comparison of Means - Tukey HSD, FWER=0.05   \n",
      "=========================================================\n",
      "  group1    group2   meandiff p-adj  lower  upper  reject\n",
      "---------------------------------------------------------\n",
      "Free-roam Left-Right  -0.2033 0.067 -0.4215 0.0149  False\n",
      "--------------------------------------------------------- \n",
      "\n",
      "TotErrRate Tukey's HSD test:\n",
      "     Multiple Comparison of Means - Tukey HSD, FWER=0.05    \n",
      "===========================================================\n",
      "  group1    group2   meandiff p-adj   lower   upper  reject\n",
      "-----------------------------------------------------------\n",
      "Free-roam Left-Right  -0.2016 0.0015 -0.3217 -0.0815   True\n",
      "----------------------------------------------------------- \n"
     ]
    }
   ],
   "source": [
    "for depvar in ['WPM','TotErrRate']:\n",
    "    # Compare 'WPM' means across different 'Typing_method' using Tukey's HSD test\n",
    "    tukey = pairwise_tukeyhsd(endog=df_grouped[depvar],     # Data\n",
    "                              groups=df_grouped['Input_method'],   # Groups\n",
    "                              alpha=0.05)          # Significance level\n",
    "    \n",
    "    print(depvar,'Tukey\\'s HSD test:\\n',tukey,'\\n')"
   ],
   "metadata": {
    "collapsed": false,
    "ExecuteTime": {
     "end_time": "2024-01-27T17:24:14.616066100Z",
     "start_time": "2024-01-27T17:24:14.058180500Z"
    }
   },
   "id": "b5e92ae0b0eef64e",
   "execution_count": 34
  }
 ],
 "metadata": {
  "kernelspec": {
   "display_name": "Python 3",
   "language": "python",
   "name": "python3"
  },
  "language_info": {
   "codemirror_mode": {
    "name": "ipython",
    "version": 2
   },
   "file_extension": ".py",
   "mimetype": "text/x-python",
   "name": "python",
   "nbconvert_exporter": "python",
   "pygments_lexer": "ipython2",
   "version": "2.7.6"
  }
 },
 "nbformat": 4,
 "nbformat_minor": 5
}
